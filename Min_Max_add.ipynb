{
 "cells": [
  {
   "cell_type": "code",
   "execution_count": 2,
   "id": "b49f7007",
   "metadata": {},
   "outputs": [
    {
     "name": "stdout",
     "output_type": "stream",
     "text": [
      "2 3 4 5\n",
      "14 12\n"
     ]
    }
   ],
   "source": [
    "def miniMaxSum(arr):\n",
    "    # Write your code here\n",
    "     arr.sort()\n",
    "     min_sum = sum(arr[:4])\n",
    "     max_sum = sum(arr[1:])\n",
    "     print(min_sum, max_sum)\n",
    "\n",
    "if __name__ == '__main__':\n",
    "\n",
    "    arr = list(map(int, input().rstrip().split()))\n",
    "\n",
    "    miniMaxSum(arr)"
   ]
  },
  {
   "cell_type": "code",
   "execution_count": 13,
   "id": "9ca65b5e",
   "metadata": {},
   "outputs": [
    {
     "name": "stdout",
     "output_type": "stream",
     "text": [
      "\n",
      "\n",
      "\n",
      "\n",
      "\n",
      "#\n",
      "\n",
      "\n",
      "\n",
      "\n",
      "##\n",
      "\n",
      "\n",
      "\n",
      "\n",
      "###\n",
      "\n",
      "\n",
      "\n",
      "\n",
      "####\n",
      "\n",
      "\n",
      "\n",
      "\n",
      "#####\n",
      "\n",
      "\n",
      "\n",
      "\n",
      "######\n"
     ]
    }
   ],
   "source": [
    "n=6\n",
    "for i in range(1, n+1):\n",
    "    for j in range(n-1):\n",
    "        print('\\n', end='')\n",
    "    for k in range(i):\n",
    "        print('#', end='')\n",
    "print()"
   ]
  },
  {
   "cell_type": "code",
   "execution_count": null,
   "id": "34dd9427",
   "metadata": {},
   "outputs": [],
   "source": []
  },
  {
   "cell_type": "code",
   "execution_count": null,
   "id": "548e7e8b",
   "metadata": {},
   "outputs": [],
   "source": []
  }
 ],
 "metadata": {
  "kernelspec": {
   "display_name": "Python 3 (ipykernel)",
   "language": "python",
   "name": "python3"
  },
  "language_info": {
   "codemirror_mode": {
    "name": "ipython",
    "version": 3
   },
   "file_extension": ".py",
   "mimetype": "text/x-python",
   "name": "python",
   "nbconvert_exporter": "python",
   "pygments_lexer": "ipython3",
   "version": "3.11.3"
  }
 },
 "nbformat": 4,
 "nbformat_minor": 5
}
